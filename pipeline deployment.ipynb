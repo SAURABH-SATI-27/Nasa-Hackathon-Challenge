{
 "cells": [
  {
   "cell_type": "code",
   "execution_count": 2,
   "metadata": {},
   "outputs": [
    {
     "name": "stdout",
     "output_type": "stream",
     "text": [
      "Predicted Co2 Emission will be :: [246.63812282]\n",
      "Wall time: 1.48 s\n"
     ]
    }
   ],
   "source": [
    "%%time\n",
    "import pickle # importing necessary dependency\n",
    "import numpy as np\n",
    "from joblib import dump, load\n",
    "\n",
    "model = pickle.load(open('finalized_model.sav', 'rb')) #loading pickel file of random forest regressor model tuned by gridsearch\n",
    "sc=load('std_scaler.bin') # loading trained scaler on training data for transforming input query\n",
    "\n",
    "es = float(input('Enter Engine_size :: ')) # engine size\n",
    "cy= int(input('Enter number of cylinder :: '))# no. of cylinders\n",
    "ca = float(input('Enter city average / 100 km :: '))# petrol consumed in city per 100 km\n",
    "ha = float(input('Enter highway average 100 km :: '))#petrol consumed in highway per 100 km\n",
    "\n",
    "veh_type = input('Enter vehicle type :: ')# type of vehicle\n",
    "fuel_type = input(\"Enter Fuel Type :: \")# fuel type used \n",
    "\n",
    "#creating dummy set variables for vehicle type and fuel used\n",
    "\n",
    "if veh_type == 'Vehicle Class_COMPACT':  \n",
    "    b=c=d=e=f=g=h=i=j=k=l=m=n=o=p = 0\n",
    "    a =1\n",
    "elif veh_type == 'Vehicle Class_FULL-SIZE':\n",
    "    a=c=d=e=f=g=h=i=j=k=l=m=n=o=p = 0\n",
    "    b = 1\n",
    "elif veh_type == 'Vehicle Class_MID-SIZE':\n",
    "    a=b=d=e=f=g=h=i=j=k=l=m=n=o=p = 0\n",
    "    c = 1\n",
    "elif veh_type == 'Vehicle Class_MINICOMPACT':\n",
    "    a=b=c=e=f=g=h=i=j=k=l=m=n=o=p = 0\n",
    "    d = 1\n",
    "elif veh_type == 'Vehicle Class_MINIVAN':\n",
    "    a=b=c=d=f=g=h=i=j=k=l=m=n=o=p = 0\n",
    "    e = 1\n",
    "elif veh_type == 'Vehicle Class_PICKUP TRUCK - SMALL':\n",
    "    a=b=c=d=e=g=h=i=j=k=l=m=n=o=p = 0\n",
    "    f = 1\n",
    "elif veh_type == 'Vehicle Class_PICKUP TRUCK - STANDARD':\n",
    "    a=b=c=d=e=f=h=i=j=k=l=m=n=o=p = 0\n",
    "    g = 1\n",
    "\n",
    "elif veh_type == 'Vehicle Class_SPECIAL PURPOSE VEHICLE':\n",
    "    a=b=c=d=e=f=g=i=j=k=l=m=n=o=p = 0\n",
    "    h = 1\n",
    "elif veh_type == 'Vehicle Class_STATION WAGON - MID-SIZE':\n",
    "    a=b=c=d=e=f=g=h=j=k=l=m=n=o=p = 0\n",
    "    i = 1\n",
    "elif veh_type == 'Vehicle Class_STATION WAGON - SMALL':\n",
    "    a=b=c=d=e=f=g=h=i=k=l=m=n=o=p = 0\n",
    "    j = 1\n",
    "elif veh_type == 'Vehicle Class_SUBCOMPACT':\n",
    "    a=b=c=d=e=f=g=h=i=j=l=m=n=o=p = 0\n",
    "    k = 1\n",
    "elif veh_type == 'Vehicle Class_SUV - SMALL':\n",
    "    a=b=c=d=e=f=g=h=i=j=k=m=n=o=p = 0\n",
    "    l = 1\n",
    "elif veh_type == 'Vehicle Class_SUV - STANDARD':\n",
    "    a=b=c=d=e=f=g=h=i=j=k=l=n=o=p = 0\n",
    "    m = 1\n",
    "elif veh_type == 'Vehicle Class_TWO-SEATER':\n",
    "    a=b=c=d=e=f=g=h=i=j=k=l=m=o=p = 0\n",
    "    n = 1\n",
    "elif veh_type == 'Vehicle Class_VAN - CARGO':\n",
    "    a=b=c=d=e=f=g=h=i=j=k=l=m=n=p = 0\n",
    "    o = 1\n",
    "elif veh_type == 'Vehicle Class_VAN - PASSENGER':\n",
    "    a=b=c=d=e=f=g=h=i=j=k=l=m=n=o = 0\n",
    "    p = 1\n",
    "    \n",
    "\n",
    "# creating dummy dataset for fuel type used \n",
    "if fuel_type == 'D':\n",
    "    fe=fn=fx=fz=0\n",
    "    fd = 1\n",
    "elif fuel_type == 'E':\n",
    "    fz=fd=fn=fx=fz=0\n",
    "    fe = 1\n",
    "elif fuel_type == 'N':\n",
    "    fz=fe=fd=fx=fz=0\n",
    "    fn = 1\n",
    "elif fuel_type == 'X':\n",
    "    fz=fe=fn=fd=fz=0\n",
    "    fx = 1\n",
    "else:\n",
    "    fd=fe=fn=fx=fz=0\n",
    "    fz = 1\n",
    "\n",
    "\n",
    "# creating input array of same order as given to model at the training time\n",
    "\n",
    "x__ = np.array([es , cy ,ca, ha ,a ,b ,c ,d ,e ,f ,g ,h ,i ,j ,k ,l ,m ,n ,o ,p , fd , fe ,fn ,fx ,fz ])\n",
    "\n",
    "# Transforming array by standard scaler trained at the time of training the model\n",
    "X__ = sc.transform(x__.reshape(1,-1))\n",
    "\n",
    "#predicting the value of co2 emission using transformed input array \n",
    "prediction  = model.predict(X__)\n",
    "print('Predicted Co2 Emission will be ::' , prediction )"
   ]
  },
  {
   "cell_type": "code",
   "execution_count": 1,
   "metadata": {},
   "outputs": [],
   "source": [
    "import pandas as pd"
   ]
  },
  {
   "cell_type": "code",
   "execution_count": 2,
   "metadata": {},
   "outputs": [],
   "source": [
    "data = pd.read_csv('clean_data.csv')"
   ]
  },
  {
   "cell_type": "code",
   "execution_count": 4,
   "metadata": {},
   "outputs": [
    {
     "data": {
      "text/plain": [
       "Index(['Unnamed: 0', 'Engine Size(L)', 'Cylinders',\n",
       "       'Fuel Consumption City (L/100 km)', 'Fuel Consumption Hwy (L/100 km)',\n",
       "       'CO2 Emissions(g/km)', 'Vehicle Class_COMPACT',\n",
       "       'Vehicle Class_FULL-SIZE', 'Vehicle Class_MID-SIZE',\n",
       "       'Vehicle Class_MINICOMPACT', 'Vehicle Class_MINIVAN',\n",
       "       'Vehicle Class_PICKUP TRUCK - SMALL',\n",
       "       'Vehicle Class_PICKUP TRUCK - STANDARD',\n",
       "       'Vehicle Class_SPECIAL PURPOSE VEHICLE',\n",
       "       'Vehicle Class_STATION WAGON - MID-SIZE',\n",
       "       'Vehicle Class_STATION WAGON - SMALL', 'Vehicle Class_SUBCOMPACT',\n",
       "       'Vehicle Class_SUV - SMALL', 'Vehicle Class_SUV - STANDARD',\n",
       "       'Vehicle Class_TWO-SEATER', 'Vehicle Class_VAN - CARGO',\n",
       "       'Vehicle Class_VAN - PASSENGER', 'Fuel Type_D', 'Fuel Type_E',\n",
       "       'Fuel Type_N', 'Fuel Type_X', 'Fuel Type_Z'],\n",
       "      dtype='object')"
      ]
     },
     "execution_count": 4,
     "metadata": {},
     "output_type": "execute_result"
    }
   ],
   "source": [
    "data.columns"
   ]
  }
 ],
 "metadata": {
  "kernelspec": {
   "display_name": "Python 3",
   "language": "python",
   "name": "python3"
  },
  "language_info": {
   "codemirror_mode": {
    "name": "ipython",
    "version": 3
   },
   "file_extension": ".py",
   "mimetype": "text/x-python",
   "name": "python",
   "nbconvert_exporter": "python",
   "pygments_lexer": "ipython3",
   "version": "3.8.5"
  }
 },
 "nbformat": 4,
 "nbformat_minor": 4
}
